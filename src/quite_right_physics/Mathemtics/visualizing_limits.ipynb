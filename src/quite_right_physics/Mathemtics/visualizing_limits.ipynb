{
 "cells": [
  {
   "cell_type": "markdown",
   "metadata": {},
   "source": [
    "# Visualizing Powers of Complex Numbers \\( r^n \\)\n",
    "\n",
    "This notebook provides an interactive visualization of the sequence \\( r^n \\) for a complex number \\( r = |r| e^{i\\theta} \\) as \\( n \\to \\infty \\). Using `ipywidgets`, you can adjust the **modulus** \\( |r| \\), the **angle** \\( \\theta \\) (in degrees), and the **number of terms** to see how the sequence behaves in the complex plane.\n",
    "\n",
    "### Key Concepts Illustrated:\n",
    "- **If \\( |r| < 1 \\)**: The sequence \\( r^n \\) converges to 0.\n",
    "- **If \\( |r| = 1 \\)**: The sequence lies on the unit circle and may either be periodic or dense, depending on \\( \\theta \\).\n",
    "- **If \\( |r| > 1 \\)**: The sequence diverges in a spiral pattern, with increasing magnitude.\n",
    "\n",
    "Each point plotted represents a successive power of \\( r \\), showing how the complex values evolve with increasing \\( n \\). This is a great way to build intuition for limits, convergence, and behavior of complex exponentiation."
   ]
  },
  {
   "cell_type": "code",
   "execution_count": 9,
   "metadata": {},
   "outputs": [
    {
     "data": {
      "application/vnd.jupyter.widget-view+json": {
       "model_id": "3b9caf9732894f1b8cf7069365e5ca87",
       "version_major": 2,
       "version_minor": 0
      },
      "text/plain": [
       "interactive(children=(FloatSlider(value=0.8, description='|r|', max=1.5, step=0.005), FloatSlider(value=45.0, …"
      ]
     },
     "metadata": {},
     "output_type": "display_data"
    },
    {
     "data": {
      "text/plain": [
       "<function __main__.visualize_complex_powers(modulus=1.0, angle_deg=45.0, n_points=50)>"
      ]
     },
     "execution_count": 9,
     "metadata": {},
     "output_type": "execute_result"
    }
   ],
   "source": [
    "import numpy as np\n",
    "import matplotlib.pyplot as plt\n",
    "from ipywidgets import interact, FloatSlider, IntSlider\n",
    "\n",
    "def visualize_complex_powers(modulus=1.0, angle_deg=45.0, n_points=50):\n",
    "    angle_rad = np.deg2rad(angle_deg)\n",
    "    r = modulus * np.exp(1j * angle_rad)\n",
    "\n",
    "    # Compute r^n values\n",
    "    powers = [r**n for n in range(n_points)]\n",
    "    x = np.real(powers)\n",
    "    y = np.imag(powers)\n",
    "\n",
    "    # Compute arrow vectors between points\n",
    "    dx = np.diff(x)\n",
    "    dy = np.diff(y)\n",
    "    x_mid = x[:-1]\n",
    "    y_mid = y[:-1]\n",
    "\n",
    "    # Plot\n",
    "    plt.figure(figsize=(6, 6))\n",
    "    plt.plot(x, y, 'o-', label=f'$r = {modulus:.2f} e^{{i{angle_deg:.0f}\\\\degree}}$')\n",
    "    plt.quiver(x_mid, y_mid, dx, dy, angles='xy', scale_units='xy', scale=1, width=0.005, headwidth=3)\n",
    "    plt.axhline(0, color='black', linewidth=0.5)\n",
    "    plt.axvline(0, color='black', linewidth=0.5)\n",
    "    plt.xlim(-2, 2)\n",
    "    plt.ylim(-2, 2)\n",
    "    plt.gca().set_aspect('equal')\n",
    "    plt.grid(True)\n",
    "    plt.legend()\n",
    "    plt.title(f\"Powers of $r^n$ with arrows for n = 0 to {n_points - 1}\")\n",
    "    plt.show()\n",
    "\n",
    "# Create interactive sliders\n",
    "interact(\n",
    "    visualize_complex_powers,\n",
    "    modulus=FloatSlider(value=0.8, min=0, max=1.5, step=0.005, description='|r|'),\n",
    "    angle_deg=FloatSlider(value=45, min=0, max=360, step=1, description='Arg(r)°'),\n",
    "    n_points=IntSlider(value=100, min=2, max=1000, step=10, description='Points')\n",
    ")"
   ]
  },
  {
   "cell_type": "code",
   "execution_count": null,
   "metadata": {},
   "outputs": [],
   "source": []
  }
 ],
 "metadata": {
  "kernelspec": {
   "display_name": "Python 3",
   "language": "python",
   "name": "python3"
  },
  "language_info": {
   "codemirror_mode": {
    "name": "ipython",
    "version": 3
   },
   "file_extension": ".py",
   "mimetype": "text/x-python",
   "name": "python",
   "nbconvert_exporter": "python",
   "pygments_lexer": "ipython3",
   "version": "3.10.16"
  }
 },
 "nbformat": 4,
 "nbformat_minor": 2
}
